{
 "cells": [
  {
   "cell_type": "markdown",
   "id": "84f45476-ca36-402a-9955-22d429550073",
   "metadata": {},
   "source": [
    "# Data Science Tools and Ecosystem"
   ]
  },
  {
   "cell_type": "markdown",
   "id": "64ef036a-c8b5-42b2-9719-0e8ca29a210c",
   "metadata": {},
   "source": [
    "In this notebook, Data Science Tools and Ecosystem are summarized"
   ]
  },
  {
   "cell_type": "markdown",
   "id": "77a49f84-5f6e-4b3c-8688-df0bc57c846a",
   "metadata": {},
   "source": [
    "Some of the popular languages that Data Scientists use are:\n",
    "1. Python\n",
    "2. R\n",
    "3. SQL\n",
    "4. Julia\n",
    "5. Scala"
   ]
  },
  {
   "cell_type": "markdown",
   "id": "1130b716-7fdf-4fef-80fc-d34919bcf9be",
   "metadata": {},
   "source": [
    "Some of the commonly used libraries used by Data Scientists include:\n",
    "1. NumPy\n",
    "2. pandas\n",
    "3. Matplotlib\n",
    "4. Seaborn\n",
    "5. scikit-learn\n",
    "6. TensorFlow\n",
    "7. Keras\n",
    "8. PyTorch"
   ]
  },
  {
   "cell_type": "markdown",
   "id": "b6f49e9c-e22b-440b-9859-716994f59fea",
   "metadata": {},
   "source": [
    "| Data Science Tools   |\n",
    "|-----------------------|\n",
    "| Jupyter Notebook      |\n",
    "| RStudio               |\n",
    "| VSCode    |\n"
   ]
  },
  {
   "cell_type": "markdown",
   "id": "0439df08-c9fb-46be-8c4a-5db53ad80422",
   "metadata": {},
   "source": [
    "### Below are a few examples of evaluating arithmetic expressions in Python"
   ]
  },
  {
   "cell_type": "code",
   "execution_count": 2,
   "id": "3f1bcd6f-b40a-4c60-b12e-bb2d41a139ba",
   "metadata": {
    "tags": []
   },
   "outputs": [
    {
     "data": {
      "text/plain": [
       "17"
      ]
     },
     "execution_count": 2,
     "metadata": {},
     "output_type": "execute_result"
    }
   ],
   "source": [
    "# This a simple arithmetic expression to mutiply then add integers\n",
    "(3*4)+5"
   ]
  },
  {
   "cell_type": "code",
   "execution_count": 6,
   "id": "f83d37c7-a3b0-4027-b83b-56d39f2e46f1",
   "metadata": {
    "tags": []
   },
   "outputs": [
    {
     "name": "stdout",
     "output_type": "stream",
     "text": [
      "200 is 3 hours and 20 mins.\n"
     ]
    }
   ],
   "source": [
    "# This will convert 200 minutes to hours by diving by 60\n",
    "def convert_mins_to_hours(mins):\n",
    "    hours = mins // 60\n",
    "    added_mins = mins % 60\n",
    "    print(f\"{mins} is {hours} hours and {added_mins} mins.\")\n",
    "    \n",
    "convert_mins_to_hours(200)"
   ]
  },
  {
   "cell_type": "markdown",
   "id": "e0a58751-4a0e-4e79-b00b-c83dba8c9dac",
   "metadata": {},
   "source": [
    "## Author\n",
    "Nick Wang\n"
   ]
  },
  {
   "cell_type": "code",
   "execution_count": null,
   "id": "835c5bfc-7766-4af3-adaf-7e0ff57b8ff5",
   "metadata": {},
   "outputs": [],
   "source": []
  }
 ],
 "metadata": {
  "kernelspec": {
   "display_name": "Python",
   "language": "python",
   "name": "conda-env-python-py"
  },
  "language_info": {
   "codemirror_mode": {
    "name": "ipython",
    "version": 3
   },
   "file_extension": ".py",
   "mimetype": "text/x-python",
   "name": "python",
   "nbconvert_exporter": "python",
   "pygments_lexer": "ipython3",
   "version": "3.7.12"
  }
 },
 "nbformat": 4,
 "nbformat_minor": 5
}
